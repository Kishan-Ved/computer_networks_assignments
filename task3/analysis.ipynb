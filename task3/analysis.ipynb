{
 "cells": [
  {
   "cell_type": "code",
   "execution_count": 1,
   "metadata": {},
   "outputs": [],
   "source": [
    "from scapy.all import rdpcap, TCP\n",
    "from datetime import datetime"
   ]
  },
  {
   "cell_type": "code",
   "execution_count": 4,
   "metadata": {},
   "outputs": [],
   "source": [
    "def analyze_pcap(file_path):\n",
    "    packets = rdpcap(file_path)\n",
    "    \n",
    "    total_bytes = 0\n",
    "    data_bytes = 0\n",
    "    total_packets = 0\n",
    "    lost_packets = 0\n",
    "    max_packet_size = 0\n",
    "    \n",
    "    ack_numbers = set()\n",
    "    seq_numbers = set()\n",
    "    \n",
    "    start_time = None\n",
    "    end_time = None\n",
    "    \n",
    "    for pkt in packets:\n",
    "        if TCP in pkt and pkt.time:\n",
    "            total_packets += 1\n",
    "            packet_size = len(pkt)\n",
    "            total_bytes += packet_size\n",
    "            \n",
    "            if pkt[TCP].flags & 0x02:  # SYN flag\n",
    "                start_time = pkt.time\n",
    "            \n",
    "            if pkt[TCP].flags & 0x01 and pkt[TCP].flags & 0x10:  # FIN-ACK\n",
    "                end_time = pkt.time\n",
    "            \n",
    "            if pkt[TCP].seq not in seq_numbers:\n",
    "                seq_numbers.add(pkt[TCP].seq)\n",
    "                data_bytes += len(pkt[TCP].payload)\n",
    "            \n",
    "            if pkt[TCP].ack not in ack_numbers:\n",
    "                ack_numbers.add(pkt[TCP].ack)\n",
    "                \n",
    "            max_packet_size = max(max_packet_size, packet_size)\n",
    "    \n",
    "    duration = end_time - start_time if start_time and end_time else 0\n",
    "    \n",
    "    # Throughput (total bytes transferred / duration)\n",
    "    throughput = total_bytes / duration if duration > 0 else 0\n",
    "    \n",
    "    # Goodput (total useful data bytes / duration)\n",
    "    goodput = data_bytes / duration if duration > 0 else 0\n",
    "    \n",
    "    # Packet loss rate\n",
    "    expected_packets = len(seq_numbers)\n",
    "    lost_packets = expected_packets - len(ack_numbers)\n",
    "    packet_loss_rate = (lost_packets / expected_packets) * 100 if expected_packets > 0 else 0\n",
    "    \n",
    "    return {\n",
    "        \"Duration (seconds)\": duration,\n",
    "        \"Throughput (bytes/sec)\": throughput,\n",
    "        \"Goodput (bytes/sec)\": goodput,\n",
    "        \"Packet Loss Rate (%)\": packet_loss_rate,\n",
    "        \"Maximum Packet Size (bytes)\": max_packet_size\n",
    "    }"
   ]
  },
  {
   "cell_type": "markdown",
   "metadata": {},
   "source": [
    "`config0 - 0, 0` => Nagle Dis, Delayed Ack<br>\n",
    "`config1 - 0, 1` => Nagle Dis, No Delayed Ack<br>\n",
    "`config2 - 1, 0` => Nagle En, Delayed Ack<br>\n",
    "`config3 - 1, 1` => Nagle En, No Delayed Ack"
   ]
  },
  {
   "cell_type": "code",
   "execution_count": 5,
   "metadata": {},
   "outputs": [
    {
     "name": "stdout",
     "output_type": "stream",
     "text": [
      "Duration (seconds): 0.062339\n",
      "Throughput (bytes/sec): 235358.2829368453135276472192\n",
      "Goodput (bytes/sec): 65705.25674136575819310543961\n",
      "Packet Loss Rate (%): 47.22222222222222\n",
      "Maximum Packet Size (bytes): 106\n"
     ]
    }
   ],
   "source": [
    "file_path = './config0.pcap'\n",
    "results = analyze_pcap(file_path)\n",
    "for metric, value in results.items():\n",
    "    print(f\"{metric}: {value}\")"
   ]
  },
  {
   "cell_type": "code",
   "execution_count": 6,
   "metadata": {},
   "outputs": [
    {
     "name": "stdout",
     "output_type": "stream",
     "text": [
      "Duration (seconds): 0.060386\n",
      "Throughput (bytes/sec): 299804.5904679892690358692412\n",
      "Goodput (bytes/sec): 67167.88659623091445036929090\n",
      "Packet Loss Rate (%): 0.0\n",
      "Maximum Packet Size (bytes): 106\n"
     ]
    }
   ],
   "source": [
    "file_path = './config1.pcap'\n",
    "results = analyze_pcap(file_path)\n",
    "for metric, value in results.items():\n",
    "    print(f\"{metric}: {value}\")"
   ]
  },
  {
   "cell_type": "code",
   "execution_count": 7,
   "metadata": {},
   "outputs": [
    {
     "name": "stdout",
     "output_type": "stream",
     "text": [
      "Duration (seconds): 0.059575\n",
      "Throughput (bytes/sec): 85639.94964330675618967687789\n",
      "Goodput (bytes/sec): 68753.67184221569450272765422\n",
      "Packet Loss Rate (%): 27.27272727272727\n",
      "Maximum Packet Size (bytes): 1514\n"
     ]
    }
   ],
   "source": [
    "file_path = './config2.pcap'\n",
    "results = analyze_pcap(file_path)\n",
    "for metric, value in results.items():\n",
    "    print(f\"{metric}: {value}\")"
   ]
  },
  {
   "cell_type": "code",
   "execution_count": 8,
   "metadata": {},
   "outputs": [
    {
     "name": "stdout",
     "output_type": "stream",
     "text": [
      "Duration (seconds): 0.060061\n",
      "Throughput (bytes/sec): 297031.3514593496611778025674\n",
      "Goodput (bytes/sec): 67531.34313447994538885466442\n",
      "Packet Loss Rate (%): 0.0\n",
      "Maximum Packet Size (bytes): 146\n"
     ]
    }
   ],
   "source": [
    "file_path = './config3.pcap'\n",
    "results = analyze_pcap(file_path)\n",
    "for metric, value in results.items():\n",
    "    print(f\"{metric}: {value}\")"
   ]
  }
 ],
 "metadata": {
  "kernelspec": {
   "display_name": "ml-dl",
   "language": "python",
   "name": "python3"
  },
  "language_info": {
   "codemirror_mode": {
    "name": "ipython",
    "version": 3
   },
   "file_extension": ".py",
   "mimetype": "text/x-python",
   "name": "python",
   "nbconvert_exporter": "python",
   "pygments_lexer": "ipython3",
   "version": "3.10.12"
  }
 },
 "nbformat": 4,
 "nbformat_minor": 2
}
